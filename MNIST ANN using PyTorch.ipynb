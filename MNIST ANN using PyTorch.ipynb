{
  "cells": [
    {
      "cell_type": "markdown",
      "metadata": {
        "id": "ShirvSzJBJAz"
      },
      "source": [
        "# <font color='Purple'>**MNIST ANN using PyTorch**</font>\n",
        "Before start working with Convolutional Neural Networks (CNN), model the <a href='https://en.wikipedia.org/wiki/MNIST_database'>MNIST dataset</a> using only linear layers.<br>\n",
        "To work with ANN, the MNIST data has to be reshaped  from a 28x28 image to a flattened 1x784 vector to mimic a single row of 784 features."
      ]
    },
    {
      "cell_type": "markdown",
      "metadata": {
        "id": "J4EQ89-PBJA0"
      },
      "source": [
        "## <font color='green'>**1. Import the Required Libraries & Modules**</font>\n",
        "Torchvision should have been installed by the environment file during setup. "
      ]
    },
    {
      "cell_type": "code",
      "execution_count": 35,
      "metadata": {
        "id": "vGPy9UrlBJA1"
      },
      "outputs": [],
      "source": [
        "import torch\n",
        "import torch.nn as nn\n",
        "import torch.nn.functional as F          # adds some efficiency\n",
        "from torch.utils.data import DataLoader  # lets us load data in batches\n",
        "from torchvision import datasets, transforms\n",
        "\n",
        "import numpy as np\n",
        "import pandas as pd\n",
        "from sklearn.metrics import confusion_matrix  # for evaluating results\n",
        "import matplotlib.pyplot as plt"
      ]
    },
    {
      "cell_type": "markdown",
      "metadata": {
        "id": "bspdMhLmBJA3"
      },
      "source": [
        "## <font color='green'>**2. Load the MNIST dataset**</font>\n",
        "PyTorch makes the MNIST dataset available through <a href='https://pytorch.org/docs/stable/torchvision/index.html'><tt><strong>torchvision</strong></tt></a>. The first time it's called, the dataset will be downloaded onto your computer to the path specified. From that point, torchvision will always look for a local copy before attempting another download.\n",
        "### **Define transform**\n",
        "As part of the loading process, multiple transformations (reshape, convert to tensor, normalize, etc.) can be applied to the incoming data.\n",
        "For this project convert images to tensors is the only transformation to be applied. "
      ]
    },
    {
      "cell_type": "code",
      "execution_count": 36,
      "metadata": {
        "id": "bJXSJh1mBJA4"
      },
      "outputs": [],
      "source": [
        "transform = transforms.ToTensor()"
      ]
    },
    {
      "cell_type": "markdown",
      "metadata": {
        "id": "ByqY6JSyBJA5"
      },
      "source": [
        "### **Load the training set**"
      ]
    },
    {
      "cell_type": "code",
      "execution_count": 37,
      "metadata": {
        "id": "-zO1KNQWBJA6",
        "outputId": "095a56ae-61ae-4367-bc12-99483280691d",
        "colab": {
          "base_uri": "https://localhost:8080/"
        }
      },
      "outputs": [
        {
          "output_type": "execute_result",
          "data": {
            "text/plain": [
              "Dataset MNIST\n",
              "    Number of datapoints: 60000\n",
              "    Root location: ../Data\n",
              "    Split: Train\n",
              "    StandardTransform\n",
              "Transform: ToTensor()"
            ]
          },
          "metadata": {},
          "execution_count": 37
        }
      ],
      "source": [
        "train_data = datasets.MNIST(root='../Data', train=True, download=True, transform=transform)\n",
        "train_data"
      ]
    },
    {
      "cell_type": "markdown",
      "metadata": {
        "id": "7SR6I_5XBJA8"
      },
      "source": [
        "### **Load the test set**\n",
        "There's a companion set of MNIST data containing 10,000 records accessible by setting train=False. As before, torchvision will only download this once, and in the future will look for the local copy."
      ]
    },
    {
      "cell_type": "code",
      "execution_count": 38,
      "metadata": {
        "id": "-R4hfDJMBJA9",
        "outputId": "63465d42-3d1d-403f-e948-060f993bd52f",
        "colab": {
          "base_uri": "https://localhost:8080/"
        }
      },
      "outputs": [
        {
          "output_type": "execute_result",
          "data": {
            "text/plain": [
              "Dataset MNIST\n",
              "    Number of datapoints: 10000\n",
              "    Root location: ../Data\n",
              "    Split: Test\n",
              "    StandardTransform\n",
              "Transform: ToTensor()"
            ]
          },
          "metadata": {},
          "execution_count": 38
        }
      ],
      "source": [
        "test_data = datasets.MNIST(root='../Data', train=False, download=True, transform=transform)\n",
        "test_data"
      ]
    },
    {
      "cell_type": "markdown",
      "metadata": {
        "id": "CA4VyWRcBJA9"
      },
      "source": [
        "### **Examine a training record**"
      ]
    },
    {
      "cell_type": "code",
      "execution_count": 39,
      "metadata": {
        "scrolled": false,
        "id": "YNbeIwqnBJA-",
        "outputId": "62077e6a-ea5a-4a67-e4c4-250f39bff6b2",
        "colab": {
          "base_uri": "https://localhost:8080/"
        }
      },
      "outputs": [
        {
          "output_type": "execute_result",
          "data": {
            "text/plain": [
              "(tensor([[[0.0000, 0.0000, 0.0000, 0.0000, 0.0000, 0.0000, 0.0000, 0.0000,\n",
              "           0.0000, 0.0000, 0.0000, 0.0000, 0.0000, 0.0000, 0.0000, 0.0000,\n",
              "           0.0000, 0.0000, 0.0000, 0.0000, 0.0000, 0.0000, 0.0000, 0.0000,\n",
              "           0.0000, 0.0000, 0.0000, 0.0000],\n",
              "          [0.0000, 0.0000, 0.0000, 0.0000, 0.0000, 0.0000, 0.0000, 0.0000,\n",
              "           0.0000, 0.0000, 0.0000, 0.0000, 0.0000, 0.0000, 0.0000, 0.0000,\n",
              "           0.0000, 0.0000, 0.0000, 0.0000, 0.0000, 0.0000, 0.0000, 0.0000,\n",
              "           0.0000, 0.0000, 0.0000, 0.0000],\n",
              "          [0.0000, 0.0000, 0.0000, 0.0000, 0.0000, 0.0000, 0.0000, 0.0000,\n",
              "           0.0000, 0.0000, 0.0000, 0.0000, 0.0000, 0.0000, 0.0000, 0.0000,\n",
              "           0.0000, 0.0000, 0.0000, 0.0000, 0.0000, 0.0000, 0.0000, 0.0000,\n",
              "           0.0000, 0.0000, 0.0000, 0.0000],\n",
              "          [0.0000, 0.0000, 0.0000, 0.0000, 0.0000, 0.0000, 0.0000, 0.0000,\n",
              "           0.0000, 0.0000, 0.0000, 0.0000, 0.0000, 0.0000, 0.0000, 0.0000,\n",
              "           0.0000, 0.0000, 0.0000, 0.0000, 0.0000, 0.0000, 0.0000, 0.0000,\n",
              "           0.0000, 0.0000, 0.0000, 0.0000],\n",
              "          [0.0000, 0.0000, 0.0000, 0.0000, 0.0000, 0.0000, 0.0000, 0.0000,\n",
              "           0.0000, 0.0000, 0.0000, 0.0000, 0.0000, 0.0000, 0.0000, 0.0000,\n",
              "           0.0000, 0.0000, 0.0000, 0.0000, 0.0000, 0.0000, 0.0000, 0.0000,\n",
              "           0.0000, 0.0000, 0.0000, 0.0000],\n",
              "          [0.0000, 0.0000, 0.0000, 0.0000, 0.0000, 0.0000, 0.0000, 0.0000,\n",
              "           0.0000, 0.0000, 0.0000, 0.0000, 0.0118, 0.0706, 0.0706, 0.0706,\n",
              "           0.4941, 0.5333, 0.6863, 0.1020, 0.6510, 1.0000, 0.9686, 0.4980,\n",
              "           0.0000, 0.0000, 0.0000, 0.0000],\n",
              "          [0.0000, 0.0000, 0.0000, 0.0000, 0.0000, 0.0000, 0.0000, 0.0000,\n",
              "           0.1176, 0.1412, 0.3686, 0.6039, 0.6667, 0.9922, 0.9922, 0.9922,\n",
              "           0.9922, 0.9922, 0.8824, 0.6745, 0.9922, 0.9490, 0.7647, 0.2510,\n",
              "           0.0000, 0.0000, 0.0000, 0.0000],\n",
              "          [0.0000, 0.0000, 0.0000, 0.0000, 0.0000, 0.0000, 0.0000, 0.1922,\n",
              "           0.9333, 0.9922, 0.9922, 0.9922, 0.9922, 0.9922, 0.9922, 0.9922,\n",
              "           0.9922, 0.9843, 0.3647, 0.3216, 0.3216, 0.2196, 0.1529, 0.0000,\n",
              "           0.0000, 0.0000, 0.0000, 0.0000],\n",
              "          [0.0000, 0.0000, 0.0000, 0.0000, 0.0000, 0.0000, 0.0000, 0.0706,\n",
              "           0.8588, 0.9922, 0.9922, 0.9922, 0.9922, 0.9922, 0.7765, 0.7137,\n",
              "           0.9686, 0.9451, 0.0000, 0.0000, 0.0000, 0.0000, 0.0000, 0.0000,\n",
              "           0.0000, 0.0000, 0.0000, 0.0000],\n",
              "          [0.0000, 0.0000, 0.0000, 0.0000, 0.0000, 0.0000, 0.0000, 0.0000,\n",
              "           0.3137, 0.6118, 0.4196, 0.9922, 0.9922, 0.8039, 0.0431, 0.0000,\n",
              "           0.1686, 0.6039, 0.0000, 0.0000, 0.0000, 0.0000, 0.0000, 0.0000,\n",
              "           0.0000, 0.0000, 0.0000, 0.0000],\n",
              "          [0.0000, 0.0000, 0.0000, 0.0000, 0.0000, 0.0000, 0.0000, 0.0000,\n",
              "           0.0000, 0.0549, 0.0039, 0.6039, 0.9922, 0.3529, 0.0000, 0.0000,\n",
              "           0.0000, 0.0000, 0.0000, 0.0000, 0.0000, 0.0000, 0.0000, 0.0000,\n",
              "           0.0000, 0.0000, 0.0000, 0.0000],\n",
              "          [0.0000, 0.0000, 0.0000, 0.0000, 0.0000, 0.0000, 0.0000, 0.0000,\n",
              "           0.0000, 0.0000, 0.0000, 0.5451, 0.9922, 0.7451, 0.0078, 0.0000,\n",
              "           0.0000, 0.0000, 0.0000, 0.0000, 0.0000, 0.0000, 0.0000, 0.0000,\n",
              "           0.0000, 0.0000, 0.0000, 0.0000],\n",
              "          [0.0000, 0.0000, 0.0000, 0.0000, 0.0000, 0.0000, 0.0000, 0.0000,\n",
              "           0.0000, 0.0000, 0.0000, 0.0431, 0.7451, 0.9922, 0.2745, 0.0000,\n",
              "           0.0000, 0.0000, 0.0000, 0.0000, 0.0000, 0.0000, 0.0000, 0.0000,\n",
              "           0.0000, 0.0000, 0.0000, 0.0000],\n",
              "          [0.0000, 0.0000, 0.0000, 0.0000, 0.0000, 0.0000, 0.0000, 0.0000,\n",
              "           0.0000, 0.0000, 0.0000, 0.0000, 0.1373, 0.9451, 0.8824, 0.6275,\n",
              "           0.4235, 0.0039, 0.0000, 0.0000, 0.0000, 0.0000, 0.0000, 0.0000,\n",
              "           0.0000, 0.0000, 0.0000, 0.0000],\n",
              "          [0.0000, 0.0000, 0.0000, 0.0000, 0.0000, 0.0000, 0.0000, 0.0000,\n",
              "           0.0000, 0.0000, 0.0000, 0.0000, 0.0000, 0.3176, 0.9412, 0.9922,\n",
              "           0.9922, 0.4667, 0.0980, 0.0000, 0.0000, 0.0000, 0.0000, 0.0000,\n",
              "           0.0000, 0.0000, 0.0000, 0.0000],\n",
              "          [0.0000, 0.0000, 0.0000, 0.0000, 0.0000, 0.0000, 0.0000, 0.0000,\n",
              "           0.0000, 0.0000, 0.0000, 0.0000, 0.0000, 0.0000, 0.1765, 0.7294,\n",
              "           0.9922, 0.9922, 0.5882, 0.1059, 0.0000, 0.0000, 0.0000, 0.0000,\n",
              "           0.0000, 0.0000, 0.0000, 0.0000],\n",
              "          [0.0000, 0.0000, 0.0000, 0.0000, 0.0000, 0.0000, 0.0000, 0.0000,\n",
              "           0.0000, 0.0000, 0.0000, 0.0000, 0.0000, 0.0000, 0.0000, 0.0627,\n",
              "           0.3647, 0.9882, 0.9922, 0.7333, 0.0000, 0.0000, 0.0000, 0.0000,\n",
              "           0.0000, 0.0000, 0.0000, 0.0000],\n",
              "          [0.0000, 0.0000, 0.0000, 0.0000, 0.0000, 0.0000, 0.0000, 0.0000,\n",
              "           0.0000, 0.0000, 0.0000, 0.0000, 0.0000, 0.0000, 0.0000, 0.0000,\n",
              "           0.0000, 0.9765, 0.9922, 0.9765, 0.2510, 0.0000, 0.0000, 0.0000,\n",
              "           0.0000, 0.0000, 0.0000, 0.0000],\n",
              "          [0.0000, 0.0000, 0.0000, 0.0000, 0.0000, 0.0000, 0.0000, 0.0000,\n",
              "           0.0000, 0.0000, 0.0000, 0.0000, 0.0000, 0.0000, 0.1804, 0.5098,\n",
              "           0.7176, 0.9922, 0.9922, 0.8118, 0.0078, 0.0000, 0.0000, 0.0000,\n",
              "           0.0000, 0.0000, 0.0000, 0.0000],\n",
              "          [0.0000, 0.0000, 0.0000, 0.0000, 0.0000, 0.0000, 0.0000, 0.0000,\n",
              "           0.0000, 0.0000, 0.0000, 0.0000, 0.1529, 0.5804, 0.8980, 0.9922,\n",
              "           0.9922, 0.9922, 0.9804, 0.7137, 0.0000, 0.0000, 0.0000, 0.0000,\n",
              "           0.0000, 0.0000, 0.0000, 0.0000],\n",
              "          [0.0000, 0.0000, 0.0000, 0.0000, 0.0000, 0.0000, 0.0000, 0.0000,\n",
              "           0.0000, 0.0000, 0.0941, 0.4471, 0.8667, 0.9922, 0.9922, 0.9922,\n",
              "           0.9922, 0.7882, 0.3059, 0.0000, 0.0000, 0.0000, 0.0000, 0.0000,\n",
              "           0.0000, 0.0000, 0.0000, 0.0000],\n",
              "          [0.0000, 0.0000, 0.0000, 0.0000, 0.0000, 0.0000, 0.0000, 0.0000,\n",
              "           0.0902, 0.2588, 0.8353, 0.9922, 0.9922, 0.9922, 0.9922, 0.7765,\n",
              "           0.3176, 0.0078, 0.0000, 0.0000, 0.0000, 0.0000, 0.0000, 0.0000,\n",
              "           0.0000, 0.0000, 0.0000, 0.0000],\n",
              "          [0.0000, 0.0000, 0.0000, 0.0000, 0.0000, 0.0000, 0.0706, 0.6706,\n",
              "           0.8588, 0.9922, 0.9922, 0.9922, 0.9922, 0.7647, 0.3137, 0.0353,\n",
              "           0.0000, 0.0000, 0.0000, 0.0000, 0.0000, 0.0000, 0.0000, 0.0000,\n",
              "           0.0000, 0.0000, 0.0000, 0.0000],\n",
              "          [0.0000, 0.0000, 0.0000, 0.0000, 0.2157, 0.6745, 0.8863, 0.9922,\n",
              "           0.9922, 0.9922, 0.9922, 0.9569, 0.5216, 0.0431, 0.0000, 0.0000,\n",
              "           0.0000, 0.0000, 0.0000, 0.0000, 0.0000, 0.0000, 0.0000, 0.0000,\n",
              "           0.0000, 0.0000, 0.0000, 0.0000],\n",
              "          [0.0000, 0.0000, 0.0000, 0.0000, 0.5333, 0.9922, 0.9922, 0.9922,\n",
              "           0.8314, 0.5294, 0.5176, 0.0627, 0.0000, 0.0000, 0.0000, 0.0000,\n",
              "           0.0000, 0.0000, 0.0000, 0.0000, 0.0000, 0.0000, 0.0000, 0.0000,\n",
              "           0.0000, 0.0000, 0.0000, 0.0000],\n",
              "          [0.0000, 0.0000, 0.0000, 0.0000, 0.0000, 0.0000, 0.0000, 0.0000,\n",
              "           0.0000, 0.0000, 0.0000, 0.0000, 0.0000, 0.0000, 0.0000, 0.0000,\n",
              "           0.0000, 0.0000, 0.0000, 0.0000, 0.0000, 0.0000, 0.0000, 0.0000,\n",
              "           0.0000, 0.0000, 0.0000, 0.0000],\n",
              "          [0.0000, 0.0000, 0.0000, 0.0000, 0.0000, 0.0000, 0.0000, 0.0000,\n",
              "           0.0000, 0.0000, 0.0000, 0.0000, 0.0000, 0.0000, 0.0000, 0.0000,\n",
              "           0.0000, 0.0000, 0.0000, 0.0000, 0.0000, 0.0000, 0.0000, 0.0000,\n",
              "           0.0000, 0.0000, 0.0000, 0.0000],\n",
              "          [0.0000, 0.0000, 0.0000, 0.0000, 0.0000, 0.0000, 0.0000, 0.0000,\n",
              "           0.0000, 0.0000, 0.0000, 0.0000, 0.0000, 0.0000, 0.0000, 0.0000,\n",
              "           0.0000, 0.0000, 0.0000, 0.0000, 0.0000, 0.0000, 0.0000, 0.0000,\n",
              "           0.0000, 0.0000, 0.0000, 0.0000]]]), 5)"
            ]
          },
          "metadata": {},
          "execution_count": 39
        }
      ],
      "source": [
        "train_data[0]"
      ]
    },
    {
      "cell_type": "markdown",
      "metadata": {
        "id": "hNmJJM26BJA-"
      },
      "source": [
        "Calling the first record from <tt>train_data</tt> returns a two-item tuple. The first item is our 28x28 tensor representing the image. The second is a label, in this case the number \"5\"."
      ]
    },
    {
      "cell_type": "code",
      "execution_count": 40,
      "metadata": {
        "id": "-BP7BjlbBJA_",
        "outputId": "051db207-308b-4e34-9930-73b2bafbbe91",
        "colab": {
          "base_uri": "https://localhost:8080/"
        }
      },
      "outputs": [
        {
          "output_type": "stream",
          "name": "stdout",
          "text": [
            "Shape: torch.Size([1, 28, 28]) \n",
            "Label: 5\n"
          ]
        }
      ],
      "source": [
        "image, label = train_data[0]\n",
        "print('Shape:', image.shape, '\\nLabel:', label)"
      ]
    },
    {
      "cell_type": "markdown",
      "metadata": {
        "id": "LoAB19zIBJA_"
      },
      "source": [
        "## <font color='green'>**3. Dataset Visualization**</font>\n",
        "Matplotlib can interpret pixel values through a variety of <a href='https://matplotlib.org/tutorials/colors/colormaps.html'>colormaps</a>."
      ]
    },
    {
      "cell_type": "code",
      "source": [
        "plt.imshow(train_data[0][0].reshape((28,28)));"
      ],
      "metadata": {
        "colab": {
          "base_uri": "https://localhost:8080/",
          "height": 265
        },
        "id": "R-PMTbGZPdrK",
        "outputId": "f18f274d-6000-4daf-8c80-87e2b5f11ce7"
      },
      "execution_count": 41,
      "outputs": [
        {
          "output_type": "display_data",
          "data": {
            "text/plain": [
              "<Figure size 432x288 with 1 Axes>"
            ],
            "image/png": "[encoded data removed]"
          },
          "metadata": {
            "needs_background": "light"
          }
        }
      ]
    },
    {
      "cell_type": "code",
      "execution_count": 42,
      "metadata": {
        "id": "AmTm7IRvBJBA",
        "outputId": "a9eb4e93-7b0d-446c-8202-7e4a73b88835",
        "colab": {
          "base_uri": "https://localhost:8080/",
          "height": 265
        }
      },
      "outputs": [
        {
          "output_type": "display_data",
          "data": {
            "text/plain": [
              "<Figure size 432x288 with 1 Axes>"
            ],
            "image/png": "[encoded data removed]"
          },
          "metadata": {
            "needs_background": "light"
          }
        }
      ],
      "source": [
        "plt.imshow(train_data[0][0].reshape((28,28)), cmap=\"gray\");"
      ]
    },
    {
      "cell_type": "code",
      "execution_count": 43,
      "metadata": {
        "id": "oh90-k0ZBJBA",
        "outputId": "b3aab77e-9ed8-4480-e9d7-56f91688808b",
        "colab": {
          "base_uri": "https://localhost:8080/",
          "height": 265
        }
      },
      "outputs": [
        {
          "output_type": "display_data",
          "data": {
            "text/plain": [
              "<Figure size 432x288 with 1 Axes>"
            ],
            "image/png": "[encoded data removed]"
          },
          "metadata": {
            "needs_background": "light"
          }
        }
      ],
      "source": [
        "plt.imshow(train_data[0][0].reshape((28,28)), cmap=\"gist_yarg\");"
      ]
    },
    {
      "cell_type": "code",
      "source": [
        "plt.imshow(train_data[0][0].reshape((28,28)), cmap=\"bone\");"
      ],
      "metadata": {
        "colab": {
          "base_uri": "https://localhost:8080/",
          "height": 265
        },
        "id": "o_ogfYdAPiia",
        "outputId": "cde1b76a-4dae-4cb9-aa88-8851a82153d3"
      },
      "execution_count": 44,
      "outputs": [
        {
          "output_type": "display_data",
          "data": {
            "text/plain": [
              "<Figure size 432x288 with 1 Axes>"
            ],
            "image/png": "[encoded data removed]"
          },
          "metadata": {
            "needs_background": "light"
          }
        }
      ]
    },
    {
      "cell_type": "markdown",
      "metadata": {
        "id": "CmFPW44oBJBB"
      },
      "source": [
        "### **Batch loading with DataLoader**\n",
        "The training set contains 60,000 records. Looking ahead to the model there are 784 (28 x28 = 784) incoming features, hidden layers of 120 and 84 neurons, and 10 output features. Including the bias terms for each layer, the total number of parameters being trained is:\n",
        "\n",
        "$\\begin{split}\\quad(784\\times120)+120+(120\\times84)+84+(84\\times10)+10 &=\\\\\n",
        "94080+120+10080+84+840+10 &= 105,214\\end{split}$\n",
        "\n",
        "For this reason it makes sense to load training data in batches using <a href='https://pytorch.org/docs/stable/data.html#torch.utils.data.DataLoader'><tt><strong>DataLoader</strong></tt></a>."
      ]
    },
    {
      "cell_type": "code",
      "execution_count": 45,
      "metadata": {
        "id": "jAAZfyFTBJBB"
      },
      "outputs": [],
      "source": [
        "torch.manual_seed(101)  # for consistent results\n",
        "train_loader = DataLoader(train_data, batch_size=100, shuffle=True)\n",
        "test_loader = DataLoader(test_data, batch_size=500, shuffle=False)"
      ]
    },
    {
      "cell_type": "markdown",
      "metadata": {
        "id": "xFsvySTBBJBC"
      },
      "source": [
        "In the cell above, <tt><strong>train_data</strong></tt> is a PyTorch <a href='https://pytorch.org/docs/stable/data.html#torch.utils.data.Dataset'><em>Dataset</em></a> object (an object that supports data loading and sampling).<br>\n",
        "The <tt><strong>batch_size</strong></tt> is the number of records to be processed at a time. If it's not evenly divisible into the dataset, then the final batch contains the remainder.<br>\n",
        "Setting <tt><strong>shuffle</strong></tt> to True means that the dataset will be shuffled after each epoch.\n",
        "\n",
        "<div class=\"alert alert-info\"><strong>NOTE:</strong> DataLoader takes an optional <tt><strong>num_workers</strong></tt> parameter that sets up how many subprocesses to use for data loading. This behaves differently with different operating systems so we've omitted it here. See <a href='https://pytorch.org/docs/stable/data.html#torch.utils.data.DataLoader'>the docs</a> for more information.</div>"
      ]
    },
    {
      "cell_type": "markdown",
      "metadata": {
        "id": "qRvPov5fBJBC"
      },
      "source": [
        "### **View a batch of images**\n",
        "Once a DataLoader is defined, create a grid of images using <a href='https://pytorch.org/docs/stable/torchvision/utils.html#torchvision.utils.make_grid'><tt><strong>torchvision.utils.make_grid</strong></tt></a>"
      ]
    },
    {
      "cell_type": "code",
      "source": [
        "# Grab the first batch of images\n",
        "for images,labels in train_loader: \n",
        "    break\n",
        "\n",
        "images.shape, labels.shape"
      ],
      "metadata": {
        "colab": {
          "base_uri": "https://localhost:8080/"
        },
        "id": "uTxY4STiT5is",
        "outputId": "2376f0e9-afd4-4b45-a0fc-beb582ee9863"
      },
      "execution_count": 46,
      "outputs": [
        {
          "output_type": "execute_result",
          "data": {
            "text/plain": [
              "(torch.Size([100, 1, 28, 28]), torch.Size([100]))"
            ]
          },
          "metadata": {},
          "execution_count": 46
        }
      ]
    },
    {
      "cell_type": "code",
      "source": [
        "# Print the first 12 labels\n",
        "print('Labels: ', labels[:12].numpy())"
      ],
      "metadata": {
        "colab": {
          "base_uri": "https://localhost:8080/"
        },
        "id": "2KdiqW9ZUTK2",
        "outputId": "321d7af0-0896-4716-9cc1-6b4c25f667f6"
      },
      "execution_count": 47,
      "outputs": [
        {
          "output_type": "stream",
          "name": "stdout",
          "text": [
            "Labels:  [   7    2    3    5    8    5    3    6    9    9    1    3]\n"
          ]
        }
      ]
    },
    {
      "cell_type": "code",
      "source": [
        "from torchvision.utils import make_grid\n",
        "np.set_printoptions(formatter=dict(int=lambda x: f'{x:4}')) # to widen the printed array\n",
        "\n",
        "# Grab the first batch of images\n",
        "for images,labels in train_loader: \n",
        "    break\n",
        "\n",
        "# Print the first 12 labels\n",
        "print('Labels: ', labels[:12].numpy())"
      ],
      "metadata": {
        "colab": {
          "base_uri": "https://localhost:8080/"
        },
        "id": "5M6NsEEfUY6P",
        "outputId": "62555ddf-6fbb-4a6e-aefe-4235c370828d"
      },
      "execution_count": 48,
      "outputs": [
        {
          "output_type": "stream",
          "name": "stdout",
          "text": [
            "Labels:  [   7    1    6    9    5    0    7    1    1    9    5    7]\n"
          ]
        }
      ]
    },
    {
      "cell_type": "markdown",
      "source": [
        "Combining all steps done above:"
      ],
      "metadata": {
        "id": "cjm6ucI-VYLl"
      }
    },
    {
      "cell_type": "code",
      "execution_count": 49,
      "metadata": {
        "id": "JQllmQBEBJBD",
        "outputId": "327d8878-9424-40e4-d09e-e08ece353ed3",
        "colab": {
          "base_uri": "https://localhost:8080/",
          "height": 117
        }
      },
      "outputs": [
        {
          "output_type": "stream",
          "name": "stdout",
          "text": [
            "Labels:  [   1    1    7    5    9    5    8    6    8    9    1    8]\n"
          ]
        },
        {
          "output_type": "display_data",
          "data": {
            "text/plain": [
              "<Figure size 720x288 with 1 Axes>"
            ],
            "image/png": "[encoded data removed]"
          },
          "metadata": {
            "needs_background": "light"
          }
        }
      ],
      "source": [
        "from torchvision.utils import make_grid\n",
        "np.set_printoptions(formatter=dict(int=lambda x: f'{x:4}')) # to widen the printed array\n",
        "\n",
        "# Grab the first batch of images\n",
        "for images,labels in train_loader: \n",
        "    break\n",
        "\n",
        "# Print the first 12 labels\n",
        "print('Labels: ', labels[:12].numpy())\n",
        "\n",
        "# Print the first 12 images\n",
        "im = make_grid(images[:12], nrow=12)  # the default nrow is 8\n",
        "plt.figure(figsize=(10,4))\n",
        "# We need to transpose the images from CWH to WHC (c = color channel, w = width, h = height)\n",
        "plt.imshow(np.transpose(im.numpy(), (1, 2, 0)));"
      ]
    },
    {
      "cell_type": "markdown",
      "metadata": {
        "id": "iL8p7zlRBJBD"
      },
      "source": [
        "## <font color='green'>**4. Model Development**</font>\n",
        "### **Define the model**\n",
        "For this exercise we'll use fully connected layers to develop a <a href='https://en.wikipedia.org/wiki/Multilayer_perceptron'>multilayer perceptron</a>.<br>\n",
        "Our input size is 784 once we flatten the incoming 28x28 tensors.<br>\n",
        "Our output size represents the 10 possible digits.<br>\n",
        "We'll set our hidden layers to [120, 84] for now. Once you've completed the exercise feel free to come back and try different values."
      ]
    },
    {
      "cell_type": "code",
      "execution_count": 50,
      "metadata": {
        "id": "50Thh51UBJBE"
      },
      "outputs": [],
      "source": [
        "class MultilayerPerceptron(nn.Module):\n",
        "    def __init__(self, in_sz=784, out_sz=10, layers=[120,84]):\n",
        "        super().__init__()\n",
        "        self.fc1 = nn.Linear(in_sz,layers[0])\n",
        "        self.fc2 = nn.Linear(layers[0],layers[1])\n",
        "        self.fc3 = nn.Linear(layers[1],out_sz)\n",
        "    \n",
        "    def forward(self,X):\n",
        "        X = F.relu(self.fc1(X))\n",
        "        X = F.relu(self.fc2(X))\n",
        "        X = self.fc3(X)\n",
        "        return F.log_softmax(X, dim=1)"
      ]
    },
    {
      "cell_type": "code",
      "execution_count": 51,
      "metadata": {
        "id": "_EiOmZVEBJBE",
        "outputId": "8ba761d0-6411-4778-decf-361ab364754d",
        "colab": {
          "base_uri": "https://localhost:8080/"
        }
      },
      "outputs": [
        {
          "output_type": "execute_result",
          "data": {
            "text/plain": [
              "MultilayerPerceptron(\n",
              "  (fc1): Linear(in_features=784, out_features=120, bias=True)\n",
              "  (fc2): Linear(in_features=120, out_features=84, bias=True)\n",
              "  (fc3): Linear(in_features=84, out_features=10, bias=True)\n",
              ")"
            ]
          },
          "metadata": {},
          "execution_count": 51
        }
      ],
      "source": [
        "torch.manual_seed(101)\n",
        "model = MultilayerPerceptron()\n",
        "model"
      ]
    },
    {
      "cell_type": "markdown",
      "metadata": {
        "id": "0TEsfX4KBJBF"
      },
      "source": [
        "<div class=\"alert alert-info\"><strong>NOTE:</strong> Notice the shortcut for adding ReLU to the linear layer. Previously this was done under the <tt>__init__</tt> section as\n",
        "<pre style='background-color:rgb(217,237,247)'>\n",
        "layerlist = []\n",
        "for i in layers:\n",
        "    layerlist.append(nn.Linear(n_in,i)) \n",
        "    layerlist.append(nn.ReLU(inplace=True))\n",
        "self.layers = nn.Sequential(*layerlist)</pre>\n",
        "    \n",
        "Here its direct calling <tt>F.relu()</tt> as a functional wrapper on the linear layer directly:\n",
        "<pre style='background-color:rgb(217,237,247)'>\n",
        "def forward(self,X):\n",
        "    X = F.relu(self.fc1(X))</pre></div>"
      ]
    },
    {
      "cell_type": "markdown",
      "metadata": {
        "id": "xpURfNbrBJBF"
      },
      "source": [
        "### **Count the model parameters**\n",
        "This optional step shows that the number of trainable parameters in our model matches the equation above."
      ]
    },
    {
      "cell_type": "code",
      "execution_count": 52,
      "metadata": {
        "id": "tx6y9DllBJBF"
      },
      "outputs": [],
      "source": [
        "def count_parameters(model):\n",
        "    params = [p.numel() for p in model.parameters() if p.requires_grad]\n",
        "    for item in params:\n",
        "        print(f'{item:>6}')\n",
        "    print(f'______\\n{sum(params):>6}')"
      ]
    },
    {
      "cell_type": "code",
      "execution_count": 53,
      "metadata": {
        "id": "SDymfgV0BJBG",
        "outputId": "193bfbb7-0fe9-4077-a45a-99408b28d58c",
        "colab": {
          "base_uri": "https://localhost:8080/"
        }
      },
      "outputs": [
        {
          "output_type": "stream",
          "name": "stdout",
          "text": [
            " 94080\n",
            "   120\n",
            " 10080\n",
            "    84\n",
            "   840\n",
            "    10\n",
            "______\n",
            "105214\n"
          ]
        }
      ],
      "source": [
        "count_parameters(model)"
      ]
    },
    {
      "cell_type": "markdown",
      "metadata": {
        "id": "gyJ36ytHBJBG"
      },
      "source": [
        "### **Define loss function & optimizer**"
      ]
    },
    {
      "cell_type": "code",
      "execution_count": 54,
      "metadata": {
        "id": "rw4XhwAJBJBG"
      },
      "outputs": [],
      "source": [
        "criterion = nn.CrossEntropyLoss()\n",
        "optimizer = torch.optim.Adam(model.parameters(), lr=0.001)"
      ]
    },
    {
      "cell_type": "markdown",
      "metadata": {
        "id": "GrkhdkNiBJBH"
      },
      "source": [
        "### **Flatten the training data**\n",
        "The batch tensors fed in by DataLoader have a shape of [100, 1, 28, 28]:"
      ]
    },
    {
      "cell_type": "code",
      "execution_count": 55,
      "metadata": {
        "id": "r5HGDRZrBJBH",
        "outputId": "83fd021f-74ef-4f44-d6f9-435eea8fbc4c",
        "colab": {
          "base_uri": "https://localhost:8080/"
        }
      },
      "outputs": [
        {
          "output_type": "stream",
          "name": "stdout",
          "text": [
            "Batch shape: torch.Size([100, 1, 28, 28])\n"
          ]
        }
      ],
      "source": [
        "# Load the first batch, print its shape\n",
        "for images, labels in train_loader:\n",
        "    print('Batch shape:', images.size())\n",
        "    break\n",
        "    \n",
        "# EQUIVALENT TO:\n",
        "# dataiter = iter(train_loader)\n",
        "# images, labels = dataiter.next()\n",
        "# print('Batch shape:', images.size())"
      ]
    },
    {
      "cell_type": "markdown",
      "metadata": {
        "id": "iOCf3ZMSBJBH"
      },
      "source": [
        "Flatten them using <tt>.view()</tt>"
      ]
    },
    {
      "cell_type": "code",
      "execution_count": 56,
      "metadata": {
        "id": "5TzhGv4EBJBI",
        "outputId": "bfe13309-342f-4cba-8154-627b72c028e1",
        "colab": {
          "base_uri": "https://localhost:8080/"
        }
      },
      "outputs": [
        {
          "output_type": "execute_result",
          "data": {
            "text/plain": [
              "torch.Size([100, 784])"
            ]
          },
          "metadata": {},
          "execution_count": 56
        }
      ],
      "source": [
        "images.view(100,-1).size()"
      ]
    },
    {
      "cell_type": "markdown",
      "metadata": {
        "id": "zVK-PuIJBJBI"
      },
      "source": [
        "Do this just before applying the model to the data."
      ]
    },
    {
      "cell_type": "markdown",
      "metadata": {
        "id": "NaXqBwv4BJBI"
      },
      "source": [
        "### **Train the model**\n",
        "This time we'll run the test data through the model during each epoch, so that we can compare loss & accuracy on the same plot.\n",
        "\n",
        "<div class=\"alert alert-info\"><strong>A QUICK NOTE: </strong>In the section below marked &nbsp;<tt><em>#Tally the number of correct predictions</em></tt> &nbsp;we include the code\n",
        "<pre style='background-color:rgb(217,237,247)'>\n",
        "predicted = torch.max(y_pred.data, 1)[1]</pre>\n",
        "This uses the <a href='https://pytorch.org/docs/stable/torch.html#torch.max'><tt><strong>torch.max()</strong></tt></a> function. <tt>torch.max()</tt> returns a tensor of maximum values, and a tensor of the indices where the max values were found. In our code we're asking for the index positions of the maximum values along dimension 1. In this way we can match predictions up to image labels.</div>\n",
        "\n",
        "\n",
        "This is essentially transforming the maximum softmax probabilities into something that looks like, for example, the number nine, just a single digit nine from a set of softmax probabilities. \n",
        "\n",
        "For example 10 probabilities for 10 neurons as we are using softmax in the output. 'torch.max' selects that neuron with max probability.  "
      ]
    },
    {
      "cell_type": "code",
      "execution_count": 57,
      "metadata": {
        "id": "0Ju1Wg8_BJBJ",
        "outputId": "935e6fe3-26ea-413a-db85-ceaa5f3ebe5a",
        "colab": {
          "base_uri": "https://localhost:8080/"
        }
      },
      "outputs": [
        {
          "output_type": "stream",
          "name": "stdout",
          "text": [
            "epoch:  0  batch:  200 [ 20000/60000]  loss: 0.29955006  accuracy:  82.655%\n",
            "epoch:  0  batch:  400 [ 40000/60000]  loss: 0.27258989  accuracy:  87.248%\n",
            "epoch:  0  batch:  600 [ 60000/60000]  loss: 0.18161911  accuracy:  89.317%\n",
            "epoch:  1  batch:  200 [ 20000/60000]  loss: 0.17174503  accuracy:  94.625%\n",
            "epoch:  1  batch:  400 [ 40000/60000]  loss: 0.05092046  accuracy:  95.010%\n",
            "epoch:  1  batch:  600 [ 60000/60000]  loss: 0.14260989  accuracy:  95.262%\n",
            "epoch:  2  batch:  200 [ 20000/60000]  loss: 0.16941890  accuracy:  96.550%\n",
            "epoch:  2  batch:  400 [ 40000/60000]  loss: 0.17230831  accuracy:  96.498%\n",
            "epoch:  2  batch:  600 [ 60000/60000]  loss: 0.11350720  accuracy:  96.578%\n",
            "epoch:  3  batch:  200 [ 20000/60000]  loss: 0.14028214  accuracy:  97.405%\n",
            "epoch:  3  batch:  400 [ 40000/60000]  loss: 0.01309010  accuracy:  97.470%\n",
            "epoch:  3  batch:  600 [ 60000/60000]  loss: 0.07578567  accuracy:  97.418%\n",
            "epoch:  4  batch:  200 [ 20000/60000]  loss: 0.05319396  accuracy:  98.050%\n",
            "epoch:  4  batch:  400 [ 40000/60000]  loss: 0.11107086  accuracy:  97.978%\n",
            "epoch:  4  batch:  600 [ 60000/60000]  loss: 0.10173848  accuracy:  98.010%\n",
            "epoch:  5  batch:  200 [ 20000/60000]  loss: 0.08111744  accuracy:  98.455%\n",
            "epoch:  5  batch:  400 [ 40000/60000]  loss: 0.01879258  accuracy:  98.412%\n",
            "epoch:  5  batch:  600 [ 60000/60000]  loss: 0.04952753  accuracy:  98.332%\n",
            "epoch:  6  batch:  200 [ 20000/60000]  loss: 0.02242671  accuracy:  98.845%\n",
            "epoch:  6  batch:  400 [ 40000/60000]  loss: 0.03122643  accuracy:  98.705%\n",
            "epoch:  6  batch:  600 [ 60000/60000]  loss: 0.04210168  accuracy:  98.702%\n",
            "epoch:  7  batch:  200 [ 20000/60000]  loss: 0.00364264  accuracy:  99.020%\n",
            "epoch:  7  batch:  400 [ 40000/60000]  loss: 0.01479444  accuracy:  98.945%\n",
            "epoch:  7  batch:  600 [ 60000/60000]  loss: 0.03899167  accuracy:  98.875%\n",
            "epoch:  8  batch:  200 [ 20000/60000]  loss: 0.00676046  accuracy:  99.165%\n",
            "epoch:  8  batch:  400 [ 40000/60000]  loss: 0.08838569  accuracy:  99.132%\n",
            "epoch:  8  batch:  600 [ 60000/60000]  loss: 0.05636256  accuracy:  99.103%\n",
            "epoch:  9  batch:  200 [ 20000/60000]  loss: 0.04124684  accuracy:  99.290%\n",
            "epoch:  9  batch:  400 [ 40000/60000]  loss: 0.04441595  accuracy:  99.280%\n",
            "epoch:  9  batch:  600 [ 60000/60000]  loss: 0.02440854  accuracy:  99.253%\n",
            "\n",
            "Duration: 100 seconds\n"
          ]
        }
      ],
      "source": [
        "import time\n",
        "start_time = time.time()\n",
        "\n",
        "#Training\n",
        "epochs = 10\n",
        "\n",
        "#Trackers\n",
        "train_losses = []\n",
        "test_losses = []\n",
        "train_correct = []\n",
        "test_correct = []\n",
        "\n",
        "for i in range(epochs):\n",
        "    trn_corr = 0\n",
        "    tst_corr = 0\n",
        "#the train loader returns back the image and its label and with enumerate, it's actually going to keep track of what batch number model is on with b.    \n",
        "    # Run the training batches\n",
        "    for b, (X_train, y_train) in enumerate(train_loader):\n",
        "        b+=1\n",
        "        \n",
        "        # Apply the model\n",
        "        y_pred = model(X_train.view(100, -1))  # Here we flatten X_train\n",
        "        loss = criterion(y_pred, y_train)\n",
        " \n",
        "        # Tally the number of correct predictions\n",
        "        predicted = torch.max(y_pred.data, 1)[1]\n",
        "        batch_corr = (predicted == y_train).sum()\n",
        "        trn_corr += batch_corr\n",
        "        \n",
        "        # Update parameters\n",
        "        optimizer.zero_grad()\n",
        "        loss.backward()\n",
        "        optimizer.step()\n",
        "        \n",
        "        # Print interim results\n",
        "        if b%200 == 0: # if our batch size is evenly divisible by 200\n",
        "            print(f'epoch: {i:2}  batch: {b:4} [{100*b:6}/60000]  loss: {loss.item():10.8f}  \\\n",
        "accuracy: {trn_corr.item()*100/(100*b):7.3f}%')\n",
        "    \n",
        "    # Update train loss & accuracy for the epoch\n",
        "    train_losses.append(loss.item())\n",
        "    train_correct.append(trn_corr.item())\n",
        "        \n",
        "    # Run the testing batches\n",
        "    with torch.no_grad():\n",
        "        for b, (X_test, y_test) in enumerate(test_loader):\n",
        "\n",
        "            # Apply the model\n",
        "            y_val = model(X_test.view(500, -1))  # Here we flatten X_test\n",
        "\n",
        "            # Tally the number of correct predictions\n",
        "            predicted = torch.max(y_val.data, 1)[1] \n",
        "            tst_corr += (predicted == y_test).sum()\n",
        "    \n",
        "    # Update test loss & accuracy for the epoch\n",
        "    loss = criterion(y_val, y_test)\n",
        "    test_losses.append(loss)\n",
        "    test_correct.append(tst_corr)\n",
        "        \n",
        "print(f'\\nDuration: {time.time() - start_time:.0f} seconds') # print the time elapsed            "
      ]
    },
    {
      "cell_type": "markdown",
      "metadata": {
        "id": "FCwJMd3JBJBJ"
      },
      "source": [
        "## Plot the loss and accuracy comparisons"
      ]
    },
    {
      "cell_type": "code",
      "execution_count": 58,
      "metadata": {
        "id": "IduaTjEVBJBK",
        "outputId": "6e7832e0-6d25-4a3c-e77f-d8eaa8405f4f",
        "colab": {
          "base_uri": "https://localhost:8080/",
          "height": 281
        }
      },
      "outputs": [
        {
          "output_type": "display_data",
          "data": {
            "text/plain": [
              "<Figure size 432x288 with 1 Axes>"
            ],
            "image/png": "[encoded data removed]"
          },
          "metadata": {
            "needs_background": "light"
          }
        }
      ],
      "source": [
        "plt.plot(train_losses, label='training loss')\n",
        "plt.plot(test_losses, label='validation loss')\n",
        "plt.title('Loss at the end of each epoch')\n",
        "plt.legend();"
      ]
    },
    {
      "cell_type": "markdown",
      "metadata": {
        "id": "NBFaoPo9BJBK"
      },
      "source": [
        "This shows some evidence of overfitting the training data."
      ]
    },
    {
      "cell_type": "code",
      "execution_count": 59,
      "metadata": {
        "id": "YqNoEkhxBJBK",
        "outputId": "2b19e811-ad25-49f1-e6fe-431f8fb58df0",
        "colab": {
          "base_uri": "https://localhost:8080/",
          "height": 281
        }
      },
      "outputs": [
        {
          "output_type": "display_data",
          "data": {
            "text/plain": [
              "<Figure size 432x288 with 1 Axes>"
            ],
            "image/png": "[encoded data removed]"
          },
          "metadata": {
            "needs_background": "light"
          }
        }
      ],
      "source": [
        "plt.plot([t/600 for t in train_correct], label='training accuracy')\n",
        "plt.plot([t/100 for t in test_correct], label='validation accuracy')\n",
        "plt.title('Accuracy at the end of each epoch')\n",
        "plt.legend();"
      ]
    },
    {
      "cell_type": "markdown",
      "metadata": {
        "id": "Mvp3pPo4BJBL"
      },
      "source": [
        "## <font color='green'>**5. Evaluate Test Data**</font>\n",
        "The model has retained the test scores during the training session."
      ]
    },
    {
      "cell_type": "code",
      "execution_count": 60,
      "metadata": {
        "id": "Ykfevq2RBJBL",
        "outputId": "ece6ee7f-b694-4c96-f614-0071f18a4288",
        "colab": {
          "base_uri": "https://localhost:8080/"
        }
      },
      "outputs": [
        {
          "output_type": "stream",
          "name": "stdout",
          "text": [
            "[tensor(9455), tensor(9606), tensor(9660), tensor(9720), tensor(9657), tensor(9760), tensor(9729), tensor(9764), tensor(9765), tensor(9772)]\n",
            "\n",
            "Test accuracy: 97.720%\n"
          ]
        }
      ],
      "source": [
        "print(test_correct) # contains the results of all 10 epochs\n",
        "print()\n",
        "print(f'Test accuracy: {test_correct[-1].item()*100/10000:.3f}%') # print the most recent result as a percent"
      ]
    },
    {
      "cell_type": "markdown",
      "metadata": {
        "id": "HJ-DCeymBJBL"
      },
      "source": [
        "However, to compare the predicted values to the ground truth (the y_test labels, run the test set through the trained model all at once."
      ]
    },
    {
      "cell_type": "code",
      "execution_count": 61,
      "metadata": {
        "id": "1hdZm_3qBJBM"
      },
      "outputs": [],
      "source": [
        "# Extract the data all at once, not in batches\n",
        "test_load_all = DataLoader(test_data, batch_size=10000, shuffle=False)"
      ]
    },
    {
      "cell_type": "code",
      "execution_count": 62,
      "metadata": {
        "id": "JL1W2sr0BJBM",
        "outputId": "0287663e-7946-48ea-d818-e7ccf7e03a87",
        "colab": {
          "base_uri": "https://localhost:8080/"
        }
      },
      "outputs": [
        {
          "output_type": "stream",
          "name": "stdout",
          "text": [
            "Test accuracy: 9772/10000 =  97.720%\n"
          ]
        }
      ],
      "source": [
        "with torch.no_grad():\n",
        "    correct = 0\n",
        "    for X_test, y_test in test_load_all:\n",
        "        y_val = model(X_test.view(len(X_test), -1))  # pass in a flattened view of X_test\n",
        "        predicted = torch.max(y_val,1)[1]\n",
        "        correct += (predicted == y_test).sum()\n",
        "print(f'Test accuracy: {correct.item()}/{len(test_data)} = {correct.item()*100/(len(test_data)):7.3f}%')"
      ]
    },
    {
      "cell_type": "markdown",
      "metadata": {
        "id": "icKdcfOYBJBM"
      },
      "source": [
        "Not bad considering that a random guess gives only 10% accuracy!"
      ]
    },
    {
      "cell_type": "markdown",
      "metadata": {
        "id": "94Q4UApVBJBM"
      },
      "source": [
        "### **Display the confusion matrix**\n",
        "This uses scikit-learn, and the predicted values obtained above."
      ]
    },
    {
      "cell_type": "code",
      "execution_count": 63,
      "metadata": {
        "id": "FePpDzINBJBN",
        "outputId": "fa9d5860-7311-4a87-afae-400adfa5f746",
        "colab": {
          "base_uri": "https://localhost:8080/"
        }
      },
      "outputs": [
        {
          "output_type": "stream",
          "name": "stdout",
          "text": [
            "[[   0    1    2    3    4    5    6    7    8    9]]\n",
            "\n",
            "[[ 969    0    1    1    0    2    0    0    3    3]\n",
            " [   0 1122    0    0    0    0    4    7    0    2]\n",
            " [   3    4 1019   12    5    0    1   12    4    0]\n",
            " [   0    0    2  981    0    8    1    3    3    7]\n",
            " [   0    0    1    0  950    1    2    1    0    7]\n",
            " [   0    0    0    4    0  868    2    1    3    9]\n",
            " [   3    3    2    0    8    6  947    0    5    1]\n",
            " [   0    0    3    3    3    0    0  994    2    1]\n",
            " [   3    6    3    8    3    6    1    5  953   10]\n",
            " [   2    0    1    1   13    1    0    5    1  969]]\n"
          ]
        }
      ],
      "source": [
        "# print a row of values for reference\n",
        "np.set_printoptions(formatter=dict(int=lambda x: f'{x:4}'))\n",
        "print(np.arange(10).reshape(1,10))\n",
        "print()\n",
        "\n",
        "# print the confusion matrix\n",
        "print(confusion_matrix(predicted.view(-1), y_test.view(-1)))"
      ]
    },
    {
      "cell_type": "markdown",
      "metadata": {
        "id": "ryHr0W_5BJBN"
      },
      "source": [
        "This shows that the model had the greatest success with ones, twos and sevens, and the lowest with fives, sixes and eights."
      ]
    },
    {
      "cell_type": "markdown",
      "metadata": {
        "id": "D4GDMuL_BJBN"
      },
      "source": [
        "### **Examine the misses**\n",
        "Now, track the index positions of \"missed\" predictions, and extract the corresponding image and label. Have to do this in batches to save screen space."
      ]
    },
    {
      "cell_type": "code",
      "execution_count": 64,
      "metadata": {
        "id": "yoD9-OsrBJBO",
        "outputId": "4f409fbf-12d8-4c9d-b00c-715c2906c5cd",
        "colab": {
          "base_uri": "https://localhost:8080/"
        }
      },
      "outputs": [
        {
          "output_type": "execute_result",
          "data": {
            "text/plain": [
              "228"
            ]
          },
          "metadata": {},
          "execution_count": 64
        }
      ],
      "source": [
        "misses = np.array([])\n",
        "for i in range(len(predicted.view(-1))):\n",
        "    if predicted[i] != y_test[i]:\n",
        "        misses = np.append(misses,i).astype('int64')\n",
        "        \n",
        "# Display the number of misses\n",
        "len(misses)"
      ]
    },
    {
      "cell_type": "code",
      "execution_count": 65,
      "metadata": {
        "id": "28Mu7JzDBJBO",
        "outputId": "6848fa16-9fbf-4080-e0f7-25c33963e845",
        "colab": {
          "base_uri": "https://localhost:8080/"
        }
      },
      "outputs": [
        {
          "output_type": "execute_result",
          "data": {
            "text/plain": [
              "array([ 104,  115,  149,  151,  241,  247,  274,  321,  340,  381])"
            ]
          },
          "metadata": {},
          "execution_count": 65
        }
      ],
      "source": [
        "# Display the first 10 index positions\n",
        "misses[:10]"
      ]
    },
    {
      "cell_type": "code",
      "execution_count": 66,
      "metadata": {
        "id": "zGNQ-XzjBJBO"
      },
      "outputs": [],
      "source": [
        "# Set up an iterator to feed batched rows\n",
        "r = 12   # row size\n",
        "row = iter(np.array_split(misses,len(misses)//r+1))"
      ]
    },
    {
      "cell_type": "markdown",
      "metadata": {
        "id": "fXtWQm6qBJBP"
      },
      "source": [
        "Now that everything is set up, run and re-run the cell below to view all of the missed predictions.<br>\n",
        "Use <kbd>Ctrl+Enter</kbd> to remain on the cell between runs. You'll see a <tt>StopIteration</tt> once all the misses have been seen."
      ]
    },
    {
      "cell_type": "code",
      "execution_count": 67,
      "metadata": {
        "id": "ZHR_viBwBJBP",
        "outputId": "f3196c6f-5490-46da-d1cb-469f6fcfd4bf",
        "colab": {
          "base_uri": "https://localhost:8080/",
          "height": 152
        }
      },
      "outputs": [
        {
          "output_type": "stream",
          "name": "stdout",
          "text": [
            "Index: [ 104  115  149  151  241  247  274  321  340  381  447  448]\n",
            "Label: [   9    4    2    9    9    4    9    2    5    3    4    9]\n",
            "Guess: [   5    9    9    8    8    2    3    7    3    7    9    8]\n"
          ]
        },
        {
          "output_type": "display_data",
          "data": {
            "text/plain": [
              "<Figure size 720x288 with 1 Axes>"
            ],
            "image/png": "[encoded data removed]"
          },
          "metadata": {
            "needs_background": "light"
          }
        }
      ],
      "source": [
        "nextrow = next(row)\n",
        "print(\"Index:\", nextrow)\n",
        "print(\"Label:\", y_test.index_select(0,torch.tensor(nextrow)).numpy())\n",
        "print(\"Guess:\", predicted.index_select(0,torch.tensor(nextrow)).numpy())\n",
        "\n",
        "images = X_test.index_select(0,torch.tensor(nextrow))\n",
        "im = make_grid(images, nrow=r)\n",
        "plt.figure(figsize=(10,4))\n",
        "plt.imshow(np.transpose(im.numpy(), (1, 2, 0)));"
      ]
    }
  ],
  "metadata": {
    "kernelspec": {
      "display_name": "Python 3",
      "language": "python",
      "name": "python3"
    },
    "language_info": {
      "codemirror_mode": {
        "name": "ipython",
        "version": 3
      },
      "file_extension": ".py",
      "mimetype": "text/x-python",
      "name": "python",
      "nbconvert_exporter": "python",
      "pygments_lexer": "ipython3",
      "version": "3.8.0"
    },
    "colab": {
      "provenance": []
    }
  },
  "nbformat": 4,
  "nbformat_minor": 0
}